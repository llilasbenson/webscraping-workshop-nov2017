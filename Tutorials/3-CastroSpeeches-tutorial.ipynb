{
 "cells": [
  {
   "cell_type": "markdown",
   "metadata": {},
   "source": [
    "# Scraping the Castro Speech Database\n"
   ]
  },
  {
   "cell_type": "raw",
   "metadata": {},
   "source": [
    "After learning how to scrape collections from the Internet Archive, we're now going to try our hand at scraping the Castro Speech Database, a digital collection held by the Benson Latin American Collection at UT Austin: http://lanic.utexas.edu/la/cb/cuba/castro.html\n",
    "\n",
    "The Castro Speech Database contains full-text translations of over 2500 speeches, interviews, press conferences, and Cuban news articles by or about Fidel Castro from 1959 through 1996, based on the records of the Foreign Broadcast Information Service (FBIS), a U.S. government agency responsible for monitoring broadcast and print media in countries throughout the world.\n",
    "\n",
    "The objective of this tutorial is to learn how to scrape text from a single webpage and to expand this technique to extract text from hundreds of webpages."
   ]
  },
  {
   "cell_type": "markdown",
   "metadata": {},
   "source": [
    "## 1. Scraping the content of a single webpage"
   ]
  },
  {
   "cell_type": "markdown",
   "metadata": {},
   "source": [
    "In order to process HTML we pull down from the web, we'll be using a Python library called Beautiful Soup. The name comes from \"Alice in Wonderland,\" which is a fun fact you can throw around at parties."
   ]
  },
  {
   "cell_type": "code",
   "execution_count": null,
   "metadata": {},
   "outputs": [],
   "source": [
    "from bs4 import BeautifulSoup\n",
    "from urllib import request"
   ]
  },
  {
   "cell_type": "markdown",
   "metadata": {},
   "source": [
    "We'll now need to identify a base link to scrape from."
   ]
  },
  {
   "cell_type": "code",
   "execution_count": null,
   "metadata": {},
   "outputs": [],
   "source": [
    "url = 'http://lanic.utexas.edu/project/castro/1959/'"
   ]
  },
  {
   "cell_type": "code",
   "execution_count": null,
   "metadata": {
    "scrolled": true
   },
   "outputs": [],
   "source": [
    "html = request.urlopen(url).read()\n",
    "print(html[0:4000])\n"
   ]
  },
  {
   "cell_type": "code",
   "execution_count": null,
   "metadata": {},
   "outputs": [],
   "source": [
    "soup = BeautifulSoup(html, 'lxml')\n",
    "\n",
    "from pprint import pprint\n",
    "pprint(soup.body)"
   ]
  },
  {
   "cell_type": "markdown",
   "metadata": {},
   "source": [
    "This line says, \"take the HTML that you've pulled down and get ready to do Beautiful Soup things to it.\" In programming speak, we're saying \"turn that HTML into a Beautiful Soup object.\" Saying something is an object is a way of saying \"I expect this data to have certain characteristics and be able to do certain things.\" In this case, BeautifulSoup gives us a series of ways to manipulate the HTML using HTML and CSS structural elements."
   ]
  },
  {
   "cell_type": "markdown",
   "metadata": {},
   "source": [
    "We can do things like:\n",
    "\n",
    "* Get all the links"
   ]
  },
  {
   "cell_type": "code",
   "execution_count": null,
   "metadata": {},
   "outputs": [],
   "source": [
    "pprint(soup.find_all('a')[0:20])"
   ]
  },
  {
   "cell_type": "markdown",
   "metadata": {},
   "source": [
    "We can say, get me all the text."
   ]
  },
  {
   "cell_type": "code",
   "execution_count": null,
   "metadata": {},
   "outputs": [],
   "source": [
    "print(soup.text)"
   ]
  },
  {
   "cell_type": "markdown",
   "metadata": {},
   "source": [
    "It might not be very clear, but that's just the text of the webpage as one long string with all the HTML stripped out."
   ]
  },
  {
   "cell_type": "markdown",
   "metadata": {},
   "source": [
    "How many links are there on this page anyway? We can find out by checking out the length of this ResultSet:"
   ]
  },
  {
   "cell_type": "code",
   "execution_count": null,
   "metadata": {},
   "outputs": [],
   "source": [
    "print(len(soup.find_all('a')))"
   ]
  },
  {
   "cell_type": "markdown",
   "metadata": {},
   "source": [
    "## 2. Scraping the text of a single speech"
   ]
  },
  {
   "cell_type": "markdown",
   "metadata": {},
   "source": [
    "Now that we've scraped the webpage containing an index of all the Castro speeches from 1959, let's focus on scraping a single speech from this index."
   ]
  },
  {
   "cell_type": "code",
   "execution_count": null,
   "metadata": {
    "scrolled": true
   },
   "outputs": [],
   "source": [
    "url = 'http://lanic.utexas.edu/project/castro/db/1959/19591128-1.html'\n",
    "html = request.urlopen(url).read()\n",
    "soup = BeautifulSoup(html, 'lxml')\n",
    "raw_text = soup.select('pre')\n",
    "clean_text = raw_text[0].text\n",
    "print(clean_text)"
   ]
  },
  {
   "cell_type": "markdown",
   "metadata": {},
   "source": [
    "The 'pre' bit in the lines of code above is using css syntax to walk the structure of the HTML document to get to what we want. I know that I need those particular selectors because I have examined the HTML for the page to see how it is organized. You can do this by going to your webpage and inspecting the element that you want by right clicking on it and selecting \"inspect element\". This particular code says, \"find the 'pre' tags. Once we have all that, print out the text of those 'pre' tags."
   ]
  },
  {
   "cell_type": "markdown",
   "metadata": {},
   "source": [
    "Alright, so now that we've been able to extract the text from a single speech in the Castro speech database, let's expand the scope of our scraping to extract the text of hundreds of Castro speeches spanning several years!"
   ]
  },
  {
   "cell_type": "markdown",
   "metadata": {},
   "source": [
    "## 3. Scraping Hundreds of Speeches from 1959-1970"
   ]
  },
  {
   "cell_type": "markdown",
   "metadata": {},
   "source": [
    "First, create a new folder within your shared folder on the desktop to hold the indices of speeches for the years 1959-1970.\n",
    "\n",
    "`os` is the 'operating system' python library, `chdir` is shorthand for 'change directory' and 'mkdir' is shorthand for 'make directory\"."
   ]
  },
  {
   "cell_type": "code",
   "execution_count": null,
   "metadata": {},
   "outputs": [],
   "source": [
    "import os\n",
    "!mkdir -p castro_speeches/indices-of-speeches_1959to1970\n",
    "os.chdir('castro_speeches/indices-of-speeches_1959to1970')"
   ]
  },
  {
   "cell_type": "markdown",
   "metadata": {},
   "source": [
    "Open your shared folder on the desktop to take a look and see if the folder was created."
   ]
  },
  {
   "cell_type": "markdown",
   "metadata": {},
   "source": [
    "Now we're going to identify the base URL we'll be scraping from. All the URLs in the Castro database reflect a highly structured, uniform naming system, with each file assigned a unique identifier and nested within a directory structure by year.\n",
    "\n",
    "Using a special function called `wget` (short for 'website get'), we will scrape all of the URLs corresponding to the indices of speeches for each year from 1959-1970.\n",
    "\n",
    "These files will be written into the folder `indices-of-speeches_1959to1970`\n",
    "\n",
    "(Note that in the year range identified, we end at 1971, not 1970. This is because Python counts integers starting at 0 not 1, so ending at 1971 accommodates for this counting system.)\n"
   ]
  },
  {
   "cell_type": "code",
   "execution_count": null,
   "metadata": {},
   "outputs": [],
   "source": [
    "import subprocess\n",
    "\n",
    "for i in range(1959,1971):\n",
    "    base_url = 'http://lanic.utexas.edu/project/castro/'\n",
    "    url = base_url + str(i)\n",
    "    subprocess.call(['wget', url, '--adjust-extension'])"
   ]
  },
  {
   "cell_type": "markdown",
   "metadata": {},
   "source": [
    "Check the folder `indices-of-speeches_1959to1970` you made within the sharedfolder on the desktop. Hopefully you see several html files corresponding to the years 1959-1970! You've successfully scraped HTML files from the web and can use these files to extract the specific text you're interested in!\n"
   ]
  },
  {
   "cell_type": "code",
   "execution_count": null,
   "metadata": {},
   "outputs": [],
   "source": [
    "html_filenames = [item for item in os.listdir('./') if '.html' in item]\n",
    "\n",
    "html_filenames [:10] #this prints out the filenames for the first ten items in our list."
   ]
  },
  {
   "cell_type": "markdown",
   "metadata": {},
   "source": [
    "Now we're going to use Beautiful Soup to extract the URLs corresponding to each speech listed in the yearly indices."
   ]
  },
  {
   "cell_type": "code",
   "execution_count": null,
   "metadata": {},
   "outputs": [],
   "source": [
    "url_list = []\n",
    "\n",
    "for file in html_filenames:\n",
    "    page = open(file).read()\n",
    "    from bs4 import BeautifulSoup\n",
    "    soup = BeautifulSoup(page, 'lxml')\n",
    "    for link in soup.findAll('a'):\n",
    "        try:\n",
    "            url_list.append('http://lanic.utexas.edu' + link['href'])\n",
    "        except Exception as e:\n",
    "            print(e)"
   ]
  },
  {
   "cell_type": "markdown",
   "metadata": {},
   "source": [
    "The output of repeated 'href' represent the empty entries in the 'a href' field throughout all the html files."
   ]
  },
  {
   "cell_type": "code",
   "execution_count": null,
   "metadata": {},
   "outputs": [],
   "source": [
    "url_list # prints out the content of the list"
   ]
  },
  {
   "cell_type": "markdown",
   "metadata": {},
   "source": [
    "How many speech URLs did we scrape? Let's find out!"
   ]
  },
  {
   "cell_type": "code",
   "execution_count": null,
   "metadata": {},
   "outputs": [],
   "source": [
    "len(url_list) # len means length. We're finding the number of URLs in our list."
   ]
  },
  {
   "cell_type": "markdown",
   "metadata": {},
   "source": [
    "Let's create a filtered list of only the urls that correspond to speeches."
   ]
  },
  {
   "cell_type": "code",
   "execution_count": null,
   "metadata": {},
   "outputs": [],
   "source": [
    "urls_filtered = []\n",
    "\n",
    "for item in url_list:\n",
    "    if '/db/' in item:\n",
    "        urls_filtered.append(item)\n",
    "\n",
    "urls_filtered [:50]"
   ]
  },
  {
   "cell_type": "markdown",
   "metadata": {},
   "source": [
    "Great! We have a filtered list of all the URLs we need. Now let's copy this list to a text file!"
   ]
  },
  {
   "cell_type": "code",
   "execution_count": null,
   "metadata": {},
   "outputs": [],
   "source": [
    "os.chdir('..')\n",
    "with open('urls-speeches.txt', 'w') as file_out:\n",
    "    for url in urls_filtered:\n",
    "        file_out.write(url)\n",
    "        file_out.write('\\n')"
   ]
  },
  {
   "cell_type": "markdown",
   "metadata": {},
   "source": [
    "Now we have a text file containing all the URLs we want to scrape content from. Open the Castro's shared folder on the desktop to open the `urls-speeches.txt` file we just made.\n",
    "\n",
    "The next step is to create a new folder called 'speeches' where we'll dump all the text we scrape from the list of URLs we have."
   ]
  },
  {
   "cell_type": "code",
   "execution_count": null,
   "metadata": {},
   "outputs": [],
   "source": [
    "!mkdir speeches"
   ]
  },
  {
   "cell_type": "markdown",
   "metadata": {},
   "source": [
    "Now we're going to bulk scrape the HTML content of each URL that corresponds to a speech. Note that when we run the cell below, it'll take approximately 56 seconds. When that time has lapsed, we should have successfully downloaded 443 HTML files."
   ]
  },
  {
   "cell_type": "code",
   "execution_count": null,
   "metadata": {},
   "outputs": [],
   "source": [
    "import subprocess\n",
    "\n",
    "!wget -i urls-speeches.txt --wait=0.1 -P ./speeches/"
   ]
  },
  {
   "cell_type": "markdown",
   "metadata": {},
   "source": [
    "Hooray! We now have an HTML file for each speech in the Castro Speech Database from 1959 to 1970!\n",
    "\n",
    "Open one of the HTML files by control clicking and selecting \"TextWrangler\" from the \"Open With\" dropdown menu.\n",
    "\n",
    "You'll see that the speech text we want is still embedded in HTML. Let's run Beautiful Soup to extract the speech texts from all 443 HTML files. Then, we'll create plain text files for each speech!"
   ]
  },
  {
   "cell_type": "code",
   "execution_count": null,
   "metadata": {},
   "outputs": [],
   "source": [
    "os.chdir('speeches')\n",
    "         \n",
    "html_filenames = [item for item in os.listdir('./') if '.html' in item]\n",
    "\n",
    "for file in html_filenames:\n",
    "    try:\n",
    "        page = open(file, 'rb').read().decode('latin1') #read as byte stream\n",
    "        soup = BeautifulSoup(page, 'lxml')\n",
    "        body_text = soup.body\n",
    "        raw_text = soup.select('pre')\n",
    "        clean_text = raw_text[0].text\n",
    "        with open(file.replace('.html', '.txt'), 'w') as file_out:\n",
    "            file_out.write(clean_text)\n",
    "    except Exception as e:\n",
    "        print(file)"
   ]
  },
  {
   "cell_type": "markdown",
   "metadata": {},
   "source": [
    "You should now have clean, plain text files of all the 1959 to 1970 speeches. With a few modifications to the code above, you can easily extend this web scraping to the entire database for speeches from 1959 to 1996!"
   ]
  }
 ],
 "metadata": {
  "kernelspec": {
   "display_name": "Python 3",
   "language": "python",
   "name": "python3"
  },
  "language_info": {
   "codemirror_mode": {
    "name": "ipython",
    "version": 3
   },
   "file_extension": ".py",
   "mimetype": "text/x-python",
   "name": "python",
   "nbconvert_exporter": "python",
   "pygments_lexer": "ipython3",
   "version": "3.5.2"
  }
 },
 "nbformat": 4,
 "nbformat_minor": 2
}
