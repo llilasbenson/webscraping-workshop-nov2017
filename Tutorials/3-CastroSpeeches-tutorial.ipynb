{
 "cells": [
  {
   "cell_type": "markdown",
   "metadata": {},
   "source": [
    "# Scraping the Castro Speech Database\n"
   ]
  },
  {
   "cell_type": "raw",
   "metadata": {},
   "source": [
    "After learning how to scrape collections from the Internet Archive, we're now going to try our hand at scraping the Castro Speech Database, a digital collection held by the Benson Latin American Collection at UT Austin: http://lanic.utexas.edu/la/cb/cuba/castro.html\n",
    "\n",
    "The Castro Speech Database contains full-text translations of over 2500 speeches, interviews, press conferences, and Cuban news articles by or about Fidel Castro from 1959 through 1996, based on the records of the Foreign Broadcast Information Service (FBIS), a U.S. government agency responsible for monitoring broadcast and print media in countries throughout the world.\n",
    "\n",
    "The objective of this tutorial is to learn how to scrape text from a single webpage and to expand this technique to extract text from hundreds of webpages."
   ]
  },
  {
   "cell_type": "markdown",
   "metadata": {},
   "source": [
    "## 1. Scraping the content of a single webpage"
   ]
  },
  {
   "cell_type": "markdown",
   "metadata": {},
   "source": [
    "In order to process HTML we pull down from the web, we'll be using a Python library called Beautiful Soup. The name comes from \"Alice in Wonderland,\" which is a fun fact you can throw around at parties."
   ]
  },
  {
   "cell_type": "code",
   "execution_count": 1,
   "metadata": {},
   "outputs": [],
   "source": [
    "from bs4 import BeautifulSoup\n",
    "from urllib import request"
   ]
  },
  {
   "cell_type": "markdown",
   "metadata": {},
   "source": [
    "We'll now need to identify a base link to scrape from."
   ]
  },
  {
   "cell_type": "code",
   "execution_count": 3,
   "metadata": {},
   "outputs": [],
   "source": [
    "url = 'http://lanic.utexas.edu/project/castro/1959/'"
   ]
  },
  {
   "cell_type": "code",
   "execution_count": 4,
   "metadata": {
    "scrolled": true
   },
   "outputs": [
    {
     "name": "stdout",
     "output_type": "stream",
     "text": [
      "b'<?xml version=\"1.0\" encoding=\"utf-8\"?>\\r\\n<!DOCTYPE html\\r\\n     PUBLIC \"-//W3C//DTD XHTML 1.0 Transitional//EN\"\\r\\n     \"http://www.w3.org/TR/xhtml1/DTD/xhtml1-transitional.dtd\">\\r\\n<html xmlns=\"http://www.w3.org/1999/xhtml\" xml:lang=\"en\">\\r\\n<head>\\r\\n<meta http-equiv=\"Content-type\" content=\"text/html; charset=utf-8\" />\\r\\n\\r\\n<link rel=\"stylesheet\" type=\"text/css\"\\r\\nhref=\"/css/lanic09.css\" />\\r\\n\\r\\n<link rel=\"stylesheet\" type=\"text/css\"\\r\\nhref=\"/css/lanic08.css\" />\\r\\n\\r\\n<link rel=\"stylesheet\" type=\"text/css\"\\r\\nhref=\"../castro09.css\" />\\r\\n\\r\\n<link rel=\"stylesheet\" type=\"text/css\"\\r\\nhref=\"/css/print/print08.css\" media=\"print\" />\\r\\n\\r\\n<!--[if lt IE 7]>\\r\\n    <link rel=\"stylesheet\" type=\"text/css\" href=\"/css/ie6-08.css\" />\\r\\n    <![endif]-->\\r\\n\\r\\n<!--[if IE 7]>\\r\\n    <link rel=\"stylesheet\" type=\"text/css\" href=\"/css/ie7-08.css\" />\\r\\n    <![endif]-->\\r\\n\\r\\n<title>Castro Speech Data Base - LANIC - Browse Speeches from 1959</title>\\r\\n</head>\\r\\n\\r\\n<body id=\"castromonth\" class=\"initiativepage\">\\r\\n\\r\\n<div id=\"container\">\\r\\n\\r\\n\\n<div id=\"logo\">\\n<h4><a href=\"/\">LANIC</a></h4>\\n<h1>Latin American Network Information Center</h1>\\n</div> <!-- end logo box -->\\n\\n<a class=\"skip\" href=\"#maincontent\">Skip to main content</a>\\n\\n<a id=\"maincontent\" class=\"skip\"></a>\\n\\n\\r\\n\\r\\n<div id=\"main\">\\r\\n\\r\\n<h2>Browse Speeches from 1959</h2>\\r\\n\\r\\n<div id=\"nav\">\\n<ul>\\n<li><a href=\"/la/cb/cuba/castro.html\">CSDB Home</a></li>\\n</ul>\\n\\n</div><!-- end nav -->\\n\\n<a href=\"/la/cb/cuba/castro.html\">\\n<img src=\"../image/fidel3.jpg\" alt=\"\" title=\"Castro Speech Data Base\"\\nid=\"castrologo\" /></a>\\n\\n<div id=\"basic\">\\n<a name=\"basicsearch\"></a>\\n<div id=\"basicform\">\\n<!-- Google CSE Search Box Begins  -->\\n<form action=\"http://lanic.utexas.edu/world/search/results/castro/\"\\nid=\"searchbox_009303113233185091933:y0x1isqxdmm\">\\n  <input type=\"hidden\" name=\"cx\"\\nvalue=\"009303113233185091933:y0x1isqxdmm\" />\\n  <input type=\"hidden\" name=\"cof\" value=\"FORID:11\" />\\n  <input type=\"text\" name=\"q\" size=\"40\" />\\n  <input type=\"submit\" name=\"sa\" value=\"Search\" />\\n\\n</form>\\n<script type=\"text/javascript\"\\nsrc=\"http://www.google.com/coop/cse/brand?form=searchbox_009303113233185091933%3Ay0x1isqxdmm&amp;lang=en\"></script>\\n<!-- Google CSE Search Box Ends -->\\n</div><!-- end basic form. This div is here only because the form id is\\ninappropriate for the CSS -->\\n</div> <!-- end basic -->\\n\\n\\r\\n\\r\\n<h3>January 1959</h3>\\r\\n<ul>\\r\\n  <li><a href=\"/project/castro/db/1959/19590103.html\">Castro\\r\\nspeaks to citizens of Santiago: 01/03/1959</a>\\r\\n  </li>\\r\\n  <li><a href=\"/project/castro/db/1959/19590109.html\">Castro\\r\\nwarns against complacency: 01/09/1959</a>\\r\\n  </li>\\r\\n  <li><a href=\"/project/castro/db/1959/19590109-1.html\">Castro\\r\\nspeech delivered in ciudad libertad: 01/09/1959</a>\\r\\n  </li>\\r\\n  <li><a href=\"/project/castro/db/1959/19590109-2.html\">Castro\\r\\nspeaks at presidential palace: 01/09/1959</a> </li>\\r\\n  <li><a href=\"/project/castro/db/1959/19590117.html\">Castro\\r\\nspeaks at chibas tomb: 01/17/1959</a>\\r\\n  </li>\\r\\n  <li><a href=\"/project/castro/db/1959/19590117-1.html\">Castro\\r\\ndelivers speech at presidential palace: 01/17/1959</a>\\r\\n  </li>\\r\\n  <li><a href=\"/project/castro/db/1959/19590121.html\">Castro\\r\\nspeaks before havana rally: 01/21/1959</a>\\r\\n  </li>\\r\\n  <li><a href=\"/project/castro/db/1959/19590124.html\">Castro\\r\\nbroadcasts to venezuelan people: 01/24/1959</a> </li>\\r\\n  <li><a href=\"/project/castro/db/1959/19590125.html\">Public\\r\\nopinion campaign: 01/ 25/1959</a>\\r\\n  </li>\\r\\n  <li><a href=\"/project/castro/db/1959/19590125-1.html\">Castro\\r\\ncontinues to assail dictators: 01/25/1959</a>\\r\\n  </li>\\r\\n  <li><a href=\"/project/castro/db/1959/19590125-2.html\">Cubans\\r\\ndiscontented over delay in trials: 01/25/1959</a>\\r\\n  </li>\\r\\n  <li><a href=\"/project/castro/db/1959/19590125-3.html\">OAS\\r\\nassailed by Castro as useless: 01/25/1959</a> </li>\\r\\n  <li><a href=\"/project/castro/db/1959/19590125-4.html\">Castro-betancourt\\r\\nmeeting: 01/25/1959</a>\\r\\n  </li>\\r\\n  <li><a href=\"/project/castro/db/1959/19590126.html\">Means\\r\\nfor ibero-american unity suggested: 01/26/1959</a>\\r\\n  </li>\\r\\n  <li><a href=\"/project/castro/db/1959'\n"
     ]
    }
   ],
   "source": [
    "html = request.urlopen(url).read()\n",
    "print(html[0:4000])\n"
   ]
  },
  {
   "cell_type": "code",
   "execution_count": 5,
   "metadata": {},
   "outputs": [
    {
     "name": "stdout",
     "output_type": "stream",
     "text": [
      "<body class=\"initiativepage\" id=\"castromonth\">\n",
      "<div id=\"container\">\n",
      "<div id=\"logo\">\n",
      "<h4><a href=\"/\">LANIC</a></h4>\n",
      "<h1>Latin American Network Information Center</h1>\n",
      "</div> <!-- end logo box -->\n",
      "<a class=\"skip\" href=\"#maincontent\">Skip to main content</a>\n",
      "<a class=\"skip\" id=\"maincontent\"></a>\n",
      "<div id=\"main\">\n",
      "<h2>Browse Speeches from 1959</h2>\n",
      "<div id=\"nav\">\n",
      "<ul>\n",
      "<li><a href=\"/la/cb/cuba/castro.html\">CSDB Home</a></li>\n",
      "</ul>\n",
      "</div><!-- end nav -->\n",
      "<a href=\"/la/cb/cuba/castro.html\">\n",
      "<img alt=\"\" id=\"castrologo\" src=\"../image/fidel3.jpg\" title=\"Castro Speech Data Base\"/></a>\n",
      "<div id=\"basic\">\n",
      "<a name=\"basicsearch\"></a>\n",
      "<div id=\"basicform\">\n",
      "<!-- Google CSE Search Box Begins  -->\n",
      "<form action=\"http://lanic.utexas.edu/world/search/results/castro/\" id=\"searchbox_009303113233185091933:y0x1isqxdmm\">\n",
      "<input name=\"cx\" type=\"hidden\" value=\"009303113233185091933:y0x1isqxdmm\"/>\n",
      "<input name=\"cof\" type=\"hidden\" value=\"FORID:11\"/>\n",
      "<input name=\"q\" size=\"40\" type=\"text\"/>\n",
      "<input name=\"sa\" type=\"submit\" value=\"Search\"/>\n",
      "</form>\n",
      "<script src=\"http://www.google.com/coop/cse/brand?form=searchbox_009303113233185091933%3Ay0x1isqxdmm&amp;lang=en\" type=\"text/javascript\"></script>\n",
      "<!-- Google CSE Search Box Ends -->\n",
      "</div><!-- end basic form. This div is here only because the form id is\n",
      "inappropriate for the CSS -->\n",
      "</div> <!-- end basic -->\n",
      "<h3>January 1959</h3>\n",
      "<ul>\n",
      "<li><a href=\"/project/castro/db/1959/19590103.html\">Castro\r\n",
      "speaks to citizens of Santiago: 01/03/1959</a>\n",
      "</li>\n",
      "<li><a href=\"/project/castro/db/1959/19590109.html\">Castro\r\n",
      "warns against complacency: 01/09/1959</a>\n",
      "</li>\n",
      "<li><a href=\"/project/castro/db/1959/19590109-1.html\">Castro\r\n",
      "speech delivered in ciudad libertad: 01/09/1959</a>\n",
      "</li>\n",
      "<li><a href=\"/project/castro/db/1959/19590109-2.html\">Castro\r\n",
      "speaks at presidential palace: 01/09/1959</a> </li>\n",
      "<li><a href=\"/project/castro/db/1959/19590117.html\">Castro\r\n",
      "speaks at chibas tomb: 01/17/1959</a>\n",
      "</li>\n",
      "<li><a href=\"/project/castro/db/1959/19590117-1.html\">Castro\r\n",
      "delivers speech at presidential palace: 01/17/1959</a>\n",
      "</li>\n",
      "<li><a href=\"/project/castro/db/1959/19590121.html\">Castro\r\n",
      "speaks before havana rally: 01/21/1959</a>\n",
      "</li>\n",
      "<li><a href=\"/project/castro/db/1959/19590124.html\">Castro\r\n",
      "broadcasts to venezuelan people: 01/24/1959</a> </li>\n",
      "<li><a href=\"/project/castro/db/1959/19590125.html\">Public\r\n",
      "opinion campaign: 01/ 25/1959</a>\n",
      "</li>\n",
      "<li><a href=\"/project/castro/db/1959/19590125-1.html\">Castro\r\n",
      "continues to assail dictators: 01/25/1959</a>\n",
      "</li>\n",
      "<li><a href=\"/project/castro/db/1959/19590125-2.html\">Cubans\r\n",
      "discontented over delay in trials: 01/25/1959</a>\n",
      "</li>\n",
      "<li><a href=\"/project/castro/db/1959/19590125-3.html\">OAS\r\n",
      "assailed by Castro as useless: 01/25/1959</a> </li>\n",
      "<li><a href=\"/project/castro/db/1959/19590125-4.html\">Castro-betancourt\r\n",
      "meeting: 01/25/1959</a>\n",
      "</li>\n",
      "<li><a href=\"/project/castro/db/1959/19590126.html\">Means\r\n",
      "for ibero-american unity suggested: 01/26/1959</a>\n",
      "</li>\n",
      "<li><a href=\"/project/castro/db/1959/19590127.html\">Mexican\r\n",
      "interview by Guillermo Vela: 01/27/1959</a>\n",
      "</li>\n",
      "</ul>\n",
      "<h3>February 1959</h3>\n",
      "<ul>\n",
      "<li><a href=\"/project/castro/db/1959/19590205.html\">Speech\r\n",
      "to 15,000 Listeners: 02/05/1959</a>\n",
      "</li>\n",
      "<li><a href=\"/project/castro/db/1959/19590219.html\">Appearance\r\n",
      "of Castro Before the Press: 02/19/1959</a>\n",
      "</li>\n",
      "<li><a href=\"/project/castro/db/1959/19590219-1.html\">Appearance\r\n",
      "of Castro Before the Press: 02/19/1959</a>\n",
      "</li>\n",
      "<li><a href=\"/project/castro/db/1959/19590219-2.html\">No\r\n",
      "title: 02/19/1959</a>\n",
      "</li>\n",
      "<li><a href=\"/project/castro/db/1959/19590219-3.html\">Appearance\r\n",
      "of Castro Before the Press: 02/19/1959</a>\n",
      "</li>\n",
      "<li><a href=\"/project/castro/db/1959/19590219-4.html\">Castro\r\n",
      "Interviewed on \"Meet the Press\": 02/19/1959</a>\n",
      "</li>\n",
      "<li><a href=\"/project/castro/db/1959/19590220.html\">4\r\n",
      "Hour TV Appearance: 02/20/1959</a>\n",
      "</li>\n",
      "<li><a href=\"/project/castro/db/1959/19590224.html\">Addressed\r\n",
      "to a Congress of Peasants: 02/24/1959</a>\n",
      "</li>\n",
      "<li><a href=\"/project/castro/db/1959/19590227.html\">27\r\n",
      "February with Castro: 02/27/1959</a>\n",
      "</li>\n",
      "</ul>\n",
      "<h3>March 1959</h3>\n",
      "<ul>\n",
      "<li><a href=\"/project/castro/db/1959/19590302.html\">Press\r\n",
      "Conference for Visiting Group from U.S.: 03/02/1959</a> </li>\n",
      "<li><a href=\"/project/castro/db/1959/19590310.html\">U.S.\r\n",
      "Society of Editors: 03/10/1959</a> </li>\n",
      "<li><a href=\"/project/castro/db/1959/19590313.html\">4\r\n",
      "Hour TV Appearance: 03/13/1959</a> </li>\n",
      "<li><a href=\"/project/castro/db/1959/19590313-1.html\">300,000\r\n",
      "Hear Castro Blast at Trujillo: 03/13/1959</a> </li>\n",
      "<li><a href=\"/project/castro/db/1959/19590316.html\">Leader\r\n",
      "of Cuba's Revolt Tells What's Coming Next: 03/16/1959</a> </li>\n",
      "<li><a href=\"/project/castro/db/1959/19590317.html\">Speech\r\n",
      "Before National Medical Association: 03/17/1959</a> </li>\n",
      "<li><a href=\"/project/castro/db/1959/19590323.html\">At\r\n",
      "Havana Labor Rally: 03/23/1959</a> </li>\n",
      "</ul>\n",
      "<h3>April 1959</h3>\n",
      "<ul>\n",
      "<li><a href=\"/project/castro/db/1959/19590402.html\">4\r\n",
      "Hour TV Appearance: 04/02/1959</a> </li>\n",
      "<li><a href=\"/project/castro/db/1959/19590402-1.html\">TV\r\n",
      "Appearance to Deny He Took Pills: 04/02/1959</a> </li>\n",
      "<li><a href=\"/project/castro/db/1959/19590410.html\">Address\r\n",
      "to the Representatives of the Tobacco Industry: 04/10/1959</a> </li>\n",
      "<li><a href=\"/project/castro/db/1959/19590422.html\">Castro\r\n",
      "Describes His Plans for Cuba: 04/22/1959</a> </li>\n",
      "</ul>\n",
      "<h3>May 1959</h3>\n",
      "<ul>\n",
      "<li><a href=\"/project/castro/db/1959/19590502.html\">Speech\r\n",
      "at 21 Nations Conference: 05/02/1959</a> </li>\n",
      "<li><a href=\"/project/castro/db/1959/19590502-1.html\">Castro\r\n",
      "at the Twenty-One Nations Conference: 05/02/1959</a> </li>\n",
      "<li><a href=\"/project/castro/db/1959/19590505.html\">Echegoyen-Castro\r\n",
      "Interview: 05/05/1959</a> </li>\n",
      "<li><a href=\"/project/castro/db/1959/19590505-1.html\">From\r\n",
      "Buenos Aires: 05/05/1959</a> </li>\n",
      "<li><a href=\"/project/castro/db/1959/19590505-2.html\">Castro\r\n",
      "Calls for Vast Program of Economic Aid: 05/05/1959</a> </li>\n",
      "<li><a href=\"/project/castro/db/1959/19590511.html\">Castro's\r\n",
      "Return from Caracas, Spoke to Crowd: 05/11/1959</a> </li>\n",
      "<li><a href=\"/project/castro/db/1959/19590514.html\">Six\r\n",
      "Hour Marathon Television Appearance: 05/14/1959</a>\n",
      "</li>\n",
      "<li><a href=\"/project/castro/db/1959/19590515.html\">Television\r\n",
      "Speech: 05/15/1959</a> </li>\n",
      "<li><a href=\"/project/castro/db/1959/19590517.html\">On\r\n",
      "the Promulgation of the Agrarian Law: 05/17/1959</a> </li>\n",
      "</ul>\n",
      "<h3>June 1959</h3>\n",
      "<ul>\n",
      "<li><a href=\"/project/castro/db/1959/19590610.html\">TV\r\n",
      "Interview: 06/10/1959</a> </li>\n",
      "<li><a href=\"/project/castro/db/1959/19590610-2.html\">Television\r\n",
      "Appearance on Channel 2: 06/10/1959</a> </li>\n",
      "</ul>\n",
      "<h3>July 1959</h3>\n",
      "<ul>\n",
      "<li><a href=\"/project/castro/db/1959/19590724.html\">Castro\r\n",
      "Given Control of Land Reform Funds: 07/24/1959</a> </li>\n",
      "<li><a href=\"/project/castro/db/1959/19590727.html\">Castro\r\n",
      "Agrees to Return to Premiership: 07/27/1959</a> </li>\n",
      "<li><a href=\"/project/castro/db/1959/19590728.html\">July\r\n",
      "Meeting in the Civic Plaza: 07/28/1959</a> </li>\n",
      "</ul>\n",
      "<h3>August 1959</h3>\n",
      "<ul>\n",
      "<li><a href=\"/project/castro/db/1959/19590817.html\">Castro\r\n",
      "Gives Detail of Counterrevolution: 08/17/1959</a> </li>\n",
      "</ul>\n",
      "<h3>September 1959</h3>\n",
      "<ul>\n",
      "<li><a href=\"/project/castro/db/1959/19590914.html\">Speech\r\n",
      "Entitled \"Message of the Cuban Revolution\": 09/14/1959</a> </li>\n",
      "<li><a href=\"/project/castro/db/1959/19590919.html\">Castro\r\n",
      "Answers Pardo Llada: 09/19/1959</a> </li>\n",
      "<li><a href=\"/project/castro/db/1959/19590919-1.html\">Import\r\n",
      "Reduction Urged by Castro: 09/19/1959</a> </li>\n",
      "<li><a href=\"/project/castro/db/1959/19590923.html\">24th\r\n",
      "Meeting of the National Executive Council: 09/23/1959</a> </li>\n",
      "<li><a href=\"/project/castro/db/1959/19590924.html\">Castro's\r\n",
      "TV Appearance: 09/24/1959</a> </li>\n",
      "<li><a href=\"/project/castro/db/1959/19590924-1.html\">Castro's\r\n",
      "Statements on TV September 17, 1959: 09/24/1959</a> </li>\n",
      "<li><a href=\"/project/castro/db/1959/19590929.html\">Four\r\n",
      "Hour TV Appearance: 09/29/1959</a> </li>\n",
      "</ul>\n",
      "<h3>October 1959</h3>\n",
      "<ul>\n",
      "<li><a href=\"/project/castro/db/1959/19591020.html\">Speech\r\n",
      "to Bank Workers' Federation: 10/20/1959</a> </li>\n",
      "<li><a href=\"/project/castro/db/1959/19591020-1.html\">Impromptu\r\n",
      "Appearance Before Meeting: 10/20/1959</a> </li>\n",
      "<li><a href=\"/project/castro/db/1959/19591021.html\">Castro\r\n",
      "Speech at Camaguey: 10/21/1959</a> </li>\n",
      "<li><a href=\"/project/castro/db/1959/19591022.html\">Castro\r\n",
      "Conciliatory Toward Americans: 10/22/1959</a> </li>\n",
      "<li><a href=\"/project/castro/db/1959/19591023.html\">Forum\r\n",
      "and Half Hour TV Appearance: 10/23/1959</a> </li>\n",
      "<li><a href=\"/project/castro/db/1959/19591026.html\">Speech\r\n",
      "to the People of Cuba at Loyalty Rally: 10/26/1959</a> </li>\n",
      "<li><a href=\"/project/castro/db/1959/19591026-1.html\">Castro\r\n",
      "Eases General Tone but Blasts Critics in U.S.: 10/26/1959</a> </li>\n",
      "<li><a href=\"/project/castro/db/1959/19591026-2.html\">Mass\r\n",
      "Demonstration: 10/26/1959</a> </li>\n",
      "<li><a href=\"/project/castro/db/1959/19591027.html\">Mass\r\n",
      "Rally in Havana: 10/27/1959</a> </li>\n",
      "</ul>\n",
      "<h3>November 1959</h3>\n",
      "<ul>\n",
      "<li><a href=\"/project/castro/db/1959/19591105.html\">Interview\r\n",
      "with Castro: 11/05/1959</a> </li>\n",
      "<li><a href=\"/project/castro/db/1959/19591113.html\">Castro\r\n",
      "Spoke about the Disappearance of Cienfuegos: 11/13/1959</a> </li>\n",
      "<li><a href=\"/project/castro/db/1959/19591119.html\">Speech\r\n",
      "to CTC Congress: 11/19/1959</a> </li>\n",
      "<li><a href=\"/project/castro/db/1959/19591128.html\">1871\r\n",
      "Gathering of Martyred Students: 11/28/1959</a> </li>\n",
      "<li><a href=\"/project/castro/db/1959/19591128-1.html\">Speaks\r\n",
      "at University of Havana: 11/28/1959</a> </li>\n",
      "<li><a href=\"/project/castro/db/1959/19591130.html\">Mass\r\n",
      "Rally Held, Santiago de Cuba: 11/30/1959</a> </li>\n",
      "<li><a href=\"/project/castro/db/1959/19591130-1.html\">Speech\r\n",
      "in Camaguey on 27 November 1959: 11/30/1959</a> </li>\n",
      "</ul>\n",
      "<h3>December 1959</h3>\n",
      "<ul>\n",
      "<li><a href=\"/project/castro/db/1959/19591214.html\">Statements\r\n",
      "by Castro at Prime Minister of the Revolution: 12/14/1959</a> </li>\n",
      "<li><a href=\"/project/castro/db/1959/19591215.html\">Speech\r\n",
      "to the Nation from the Rostrum of the National Federation of Sugar\r\n",
      "Workers: 12/15/1959</a> </li>\n",
      "<li><a href=\"/project/castro/db/1959/19591216.html\">Speech\r\n",
      "Before Congress of Sugar Workers Federation: 12/16/1959</a> </li>\n",
      "<li><a href=\"/project/castro/db/1959/19591218.html\">Statements\r\n",
      "to the Press on Buchanan: 12/18/1959</a> </li>\n",
      "<li><a href=\"/project/castro/db/1959/19591221.html\">Five-Hour\r\n",
      "Television Appearance: 12/21/1959</a> </li>\n",
      "<li><a href=\"/project/castro/db/1959/19591223.html\">Speech\r\n",
      "Correction Issued on 12/23/59 Speech: 12/23/1959</a> </li>\n",
      "</ul>\n",
      "</div>\n",
      "<div id=\"footer\">\n",
      "<a class=\"skip\" id=\"ab\"></a>\n",
      "<div id=\"footerimg\"><img alt=\"LLILAS Benson Logo.\" src=\"/image/logofull.png\"/></div>\n",
      "<ul>\n",
      "<li>LANIC is a digitial initiative of <a href=\"http://www.lib.utexas.edu/benson/collections/digital\">LLILAS Benson</a></li>\n",
      "<li><a href=\"/info/about/\">About LANIC</a></li>\n",
      "<li><a href=\"http://www.utexas.edu/web/guidelines/accessibility.html\">\n",
      "Accessibility</a></li>\n",
      "<li><a href=\"http://www.utexas.edu/cola/insts/llilas/\">Lozano Long\n",
      "Institute - LLILAS</a></li>\n",
      "<li><a class=\"searchmore\" href=\"/info/sitemap/\">Site\n",
      "map</a></li>\n",
      "</ul>\n",
      "<p class=\"copyright\">Copyright © 1992-2015 <a href=\"http://www.utexas.edu/\">The University of Texas at Austin</a></p>\n",
      "<script src=\"http://www.google-analytics.com/urchin.js\" type=\"text/javascript\">\n",
      "</script>\n",
      "<script type=\"text/javascript\">\n",
      "_uacct = \"UA-420825-1\";\n",
      "urchinTracker();\n",
      "</script>\n",
      "</div> <!-- end footer -->\n",
      "</div></body>\n"
     ]
    }
   ],
   "source": [
    "soup = BeautifulSoup(html, 'lxml')\n",
    "\n",
    "from pprint import pprint\n",
    "pprint(soup.body)"
   ]
  },
  {
   "cell_type": "markdown",
   "metadata": {},
   "source": [
    "This line says, \"take the HTML that you've pulled down and get ready to do Beautiful Soup things to it.\" In programming speak, we're saying \"turn that HTML into a Beautiful Soup object.\" Saying something is an object is a way of saying \"I expect this data to have certain characteristics and be able to do certain things.\" In this case, BeautifulSoup gives us a series of ways to manipulate the HTML using HTML and CSS structural elements."
   ]
  },
  {
   "cell_type": "markdown",
   "metadata": {},
   "source": [
    "We can do things like:\n",
    "\n",
    "* Get all the links"
   ]
  },
  {
   "cell_type": "code",
   "execution_count": 8,
   "metadata": {},
   "outputs": [
    {
     "name": "stdout",
     "output_type": "stream",
     "text": [
      "[<a href=\"/\">LANIC</a>,\n",
      " <a class=\"skip\" href=\"#maincontent\">Skip to main content</a>,\n",
      " <a class=\"skip\" id=\"maincontent\"></a>,\n",
      " <a href=\"/la/cb/cuba/castro.html\">CSDB Home</a>,\n",
      " <a href=\"/la/cb/cuba/castro.html\">\n",
      "<img alt=\"\" id=\"castrologo\" src=\"../image/fidel3.jpg\" title=\"Castro Speech Data Base\"/></a>,\n",
      " <a name=\"basicsearch\"></a>,\n",
      " <a href=\"/project/castro/db/1959/19590103.html\">Castro\r\n",
      "speaks to citizens of Santiago: 01/03/1959</a>,\n",
      " <a href=\"/project/castro/db/1959/19590109.html\">Castro\r\n",
      "warns against complacency: 01/09/1959</a>,\n",
      " <a href=\"/project/castro/db/1959/19590109-1.html\">Castro\r\n",
      "speech delivered in ciudad libertad: 01/09/1959</a>,\n",
      " <a href=\"/project/castro/db/1959/19590109-2.html\">Castro\r\n",
      "speaks at presidential palace: 01/09/1959</a>,\n",
      " <a href=\"/project/castro/db/1959/19590117.html\">Castro\r\n",
      "speaks at chibas tomb: 01/17/1959</a>,\n",
      " <a href=\"/project/castro/db/1959/19590117-1.html\">Castro\r\n",
      "delivers speech at presidential palace: 01/17/1959</a>,\n",
      " <a href=\"/project/castro/db/1959/19590121.html\">Castro\r\n",
      "speaks before havana rally: 01/21/1959</a>,\n",
      " <a href=\"/project/castro/db/1959/19590124.html\">Castro\r\n",
      "broadcasts to venezuelan people: 01/24/1959</a>,\n",
      " <a href=\"/project/castro/db/1959/19590125.html\">Public\r\n",
      "opinion campaign: 01/ 25/1959</a>,\n",
      " <a href=\"/project/castro/db/1959/19590125-1.html\">Castro\r\n",
      "continues to assail dictators: 01/25/1959</a>,\n",
      " <a href=\"/project/castro/db/1959/19590125-2.html\">Cubans\r\n",
      "discontented over delay in trials: 01/25/1959</a>,\n",
      " <a href=\"/project/castro/db/1959/19590125-3.html\">OAS\r\n",
      "assailed by Castro as useless: 01/25/1959</a>,\n",
      " <a href=\"/project/castro/db/1959/19590125-4.html\">Castro-betancourt\r\n",
      "meeting: 01/25/1959</a>,\n",
      " <a href=\"/project/castro/db/1959/19590126.html\">Means\r\n",
      "for ibero-american unity suggested: 01/26/1959</a>]\n"
     ]
    }
   ],
   "source": [
    "pprint(soup.find_all('a')[0:20])"
   ]
  },
  {
   "cell_type": "markdown",
   "metadata": {},
   "source": [
    "We can say, get me all the text."
   ]
  },
  {
   "cell_type": "code",
   "execution_count": 10,
   "metadata": {},
   "outputs": [
    {
     "name": "stdout",
     "output_type": "stream",
     "text": [
      "\n",
      "\n",
      "\n",
      "\n",
      "\n",
      "\n",
      "\n",
      "\n",
      "\n",
      "Castro Speech Data Base - LANIC - Browse Speeches from 1959\n",
      "\n",
      "\n",
      "\n",
      "\n",
      "LANIC\n",
      "Latin American Network Information Center\n",
      " \n",
      "Skip to main content\n",
      "\n",
      "\n",
      "Browse Speeches from 1959\n",
      "\n",
      "\n",
      "CSDB Home\n",
      "\n",
      "\n",
      "\n",
      "\n",
      "\n",
      "\n",
      "\n",
      "\n",
      "\n",
      "\n",
      "\n",
      "\n",
      "\n",
      "\n",
      "\n",
      "\n",
      "\n",
      " \n",
      "January 1959\n",
      "\n",
      "Castro\r\n",
      "speaks to citizens of Santiago: 01/03/1959\n",
      "\n",
      "Castro\r\n",
      "warns against complacency: 01/09/1959\n",
      "\n",
      "Castro\r\n",
      "speech delivered in ciudad libertad: 01/09/1959\n",
      "\n",
      "Castro\r\n",
      "speaks at presidential palace: 01/09/1959 \n",
      "Castro\r\n",
      "speaks at chibas tomb: 01/17/1959\n",
      "\n",
      "Castro\r\n",
      "delivers speech at presidential palace: 01/17/1959\n",
      "\n",
      "Castro\r\n",
      "speaks before havana rally: 01/21/1959\n",
      "\n",
      "Castro\r\n",
      "broadcasts to venezuelan people: 01/24/1959 \n",
      "Public\r\n",
      "opinion campaign: 01/ 25/1959\n",
      "\n",
      "Castro\r\n",
      "continues to assail dictators: 01/25/1959\n",
      "\n",
      "Cubans\r\n",
      "discontented over delay in trials: 01/25/1959\n",
      "\n",
      "OAS\r\n",
      "assailed by Castro as useless: 01/25/1959 \n",
      "Castro-betancourt\r\n",
      "meeting: 01/25/1959\n",
      "\n",
      "Means\r\n",
      "for ibero-american unity suggested: 01/26/1959\n",
      "\n",
      "Mexican\r\n",
      "interview by Guillermo Vela: 01/27/1959\n",
      "\n",
      "\n",
      "February 1959\n",
      "\n",
      "Speech\r\n",
      "to 15,000 Listeners: 02/05/1959\n",
      "\n",
      "Appearance\r\n",
      "of Castro Before the Press: 02/19/1959\n",
      "\n",
      "Appearance\r\n",
      "of Castro Before the Press: 02/19/1959\n",
      "\n",
      "No\r\n",
      "title: 02/19/1959\n",
      "\n",
      "Appearance\r\n",
      "of Castro Before the Press: 02/19/1959\n",
      "\n",
      "Castro\r\n",
      "Interviewed on \"Meet the Press\": 02/19/1959\n",
      "\n",
      "4\r\n",
      "Hour TV Appearance: 02/20/1959\n",
      "\n",
      "Addressed\r\n",
      "to a Congress of Peasants: 02/24/1959\n",
      "\n",
      "27\r\n",
      "February with Castro: 02/27/1959\n",
      "\n",
      "\n",
      "March 1959\n",
      "\n",
      "Press\r\n",
      "Conference for Visiting Group from U.S.: 03/02/1959 \n",
      "U.S.\r\n",
      "Society of Editors: 03/10/1959 \n",
      "4\r\n",
      "Hour TV Appearance: 03/13/1959 \n",
      "300,000\r\n",
      "Hear Castro Blast at Trujillo: 03/13/1959 \n",
      "Leader\r\n",
      "of Cuba's Revolt Tells What's Coming Next: 03/16/1959 \n",
      "Speech\r\n",
      "Before National Medical Association: 03/17/1959 \n",
      "At\r\n",
      "Havana Labor Rally: 03/23/1959 \n",
      "\n",
      "April 1959\n",
      "\n",
      "4\r\n",
      "Hour TV Appearance: 04/02/1959 \n",
      "TV\r\n",
      "Appearance to Deny He Took Pills: 04/02/1959 \n",
      "Address\r\n",
      "to the Representatives of the Tobacco Industry: 04/10/1959 \n",
      "Castro\r\n",
      "Describes His Plans for Cuba: 04/22/1959 \n",
      "\n",
      "May 1959\n",
      "\n",
      "Speech\r\n",
      "at 21 Nations Conference: 05/02/\n"
     ]
    }
   ],
   "source": [
    "print(soup.text)"
   ]
  },
  {
   "cell_type": "markdown",
   "metadata": {},
   "source": [
    "It might not be very clear, but that's just the text of the webpage as one long string with all the HTML stripped out."
   ]
  },
  {
   "cell_type": "markdown",
   "metadata": {},
   "source": [
    "How many links are there on this page anyway? We can find out by checking out the length of this ResultSet:"
   ]
  },
  {
   "cell_type": "code",
   "execution_count": 8,
   "metadata": {},
   "outputs": [
    {
     "name": "stdout",
     "output_type": "stream",
     "text": [
      "92\n"
     ]
    }
   ],
   "source": [
    "print(len(soup.find_all('a')))"
   ]
  },
  {
   "cell_type": "markdown",
   "metadata": {},
   "source": [
    "## 2. Scraping the text of a single speech"
   ]
  },
  {
   "cell_type": "markdown",
   "metadata": {},
   "source": [
    "Now that we've scraped the webpage containing an index of all the Castro speeches from 1959, let's focus on scraping a single speech from this index."
   ]
  },
  {
   "cell_type": "code",
   "execution_count": 9,
   "metadata": {
    "scrolled": true
   },
   "outputs": [
    {
     "name": "stdout",
     "output_type": "stream",
     "text": [
      "\r\n",
      "-DATE-\r\n",
      "19591128\r\n",
      "-YEAR-\r\n",
      "1959\r\n",
      "-DOCUMENT_TYPE-\r\n",
      "SPEECH\r\n",
      "-AUTHOR-\r\n",
      "F. CASTRO\r\n",
      "-HEADLINE-\r\n",
      "SPEAKS AT UNIVERSITY OF HAVANA\r\n",
      "-PLACE-\r\n",
      "HAVANA\r\n",
      "-SOURCE-\r\n",
      "BOLETIN DE PRENSA\r\n",
      "-REPORT_NBR-\r\n",
      "FBIS\r\n",
      "-REPORT_DATE-\r\n",
      "19591127\r\n",
      "-TEXT-\r\n",
      "CASTRO SPEAKS AT UNIVERSITY OF HAVANA ON 27 NOVEMBER 1959\r\n",
      "\r\n",
      "Source:  Boletin [de Prensa] No. 90, Ministerio de Estado, Republica de\r\n",
      "Cuba, 28 November 1959, Havana, pp 1-18\r\n",
      "\r\n",
      "University comrades:\r\n",
      "\r\n",
      "I would like to make it clear first of all why I am wearing the\r\n",
      "uniform of the university militia.  First, it is because I am still a\r\n",
      "student, and second, because the comrades of the University Battalion\r\n",
      "honored me by making me a gift of it.  And also, because we are certain\r\n",
      "that we can honor it.\r\n",
      "\r\n",
      "This 27 November has been ... just a moment, if there is a\r\n",
      "counterrevolutionary here, let his stay, do not disturb him.  There are\r\n",
      "many more out there in the street, and they are not bothering anyone\r\n",
      "much.  Also, I believe that any counterrevolutionary here will simply be\r\n",
      "mortified.\r\n",
      "\r\n",
      "I was saying that this 27 November has been for us one of the most\r\n",
      "extraordinary days we have spent.  As perhaps some of you know, we have\r\n",
      "been in the Province of Camaguey, and it required a great effort for us to\r\n",
      "be here even for a short while at the University.  I did not want to fail\r\n",
      "to be present at this ceremony tonight, because of the symbolism it has for\r\n",
      "us, because of what this date and this university site represent and\r\n",
      "recall.  It was not a matter of the number attending, but of the moral\r\n",
      "significance of this gathering.  For this reason, we made the effort, and\r\n",
      "we will always carry with us in our minds eye the unforgettable impression\r\n",
      "of today's events.\r\n",
      "\r\n",
      "I believe that our people have worthily honored the martyrs of 71,\r\n",
      "and with them all the university martyrs.  After this spectacle which we\r\n",
      "witnessed this morning, with tens of thousands of children on a military\r\n",
      "practice field waving Cuban flags, it was impossible to talk to the\r\n",
      "children, very difficult to do so because they mixed with the people in\r\n",
      "general, making this children's gathering too hectic, but I certainly\r\n",
      "wanted to speak to them.  I thought that in the morning we would speak to\r\n",
      "the primary school children, in the afternoon to the rural people and the\r\n",
      "people in general, and in the evening to the students.  In practice it has\r\n",
      "hardly been possible to do any one of these three things, for a different\r\n",
      "reason.  We could not speak to the children for the reasons explained, to\r\n",
      "the people, because of the extraordinary large crowds, and difficulties\r\n",
      "with the loudspeakers, and tonight our reason is fatigue.  However, we\r\n",
      "would like to stress at least the indelible impression we have of reaching\r\n",
      "he military fortress.\r\n",
      "\r\n",
      "And who is there who has not been in a military fortress, who has\r\n",
      "not at least passed by, once or many times, a military fortress in earlier\r\n",
      "years?\r\n",
      "\r\n",
      "It is possible that each one of us, at least one of us capable of\r\n",
      "scorning force and oppres\n"
     ]
    }
   ],
   "source": [
    "url = 'http://lanic.utexas.edu/project/castro/db/1959/19591128-1.html'\n",
    "html = request.urlopen(url).read()\n",
    "soup = BeautifulSoup(html, 'lxml')\n",
    "raw_text = soup.select('pre')\n",
    "clean_text = raw_text[0].text\n",
    "print(clean_text)"
   ]
  },
  {
   "cell_type": "markdown",
   "metadata": {},
   "source": [
    "The 'pre' bit in the lines of code above is using css syntax to walk the structure of the HTML document to get to what we want. I know that I need those particular selectors because I have examined the HTML for the page to see how it is organized. You can do this by going to your webpage and inspecting the element that you want by right clicking on it and selecting \"inspect element\". This particular code says, \"find the 'pre' tags. Once we have all that, print out the text of those 'pre' tags."
   ]
  },
  {
   "cell_type": "markdown",
   "metadata": {},
   "source": [
    "Alright, so now that we've been able to extract the text from a single speech in the Castro speech database, let's expand the scope of our scraping to extract the text of hundreds of Castro speeches spanning several years!"
   ]
  },
  {
   "cell_type": "markdown",
   "metadata": {},
   "source": [
    "## 3. Scraping Hundreds of Speeches from 1959-1970"
   ]
  },
  {
   "cell_type": "markdown",
   "metadata": {},
   "source": [
    "First, create a new folder within your shared folder on the desktop to hold the indices of speeches for the years 1959-1970.\n",
    "\n",
    "`os` is the 'operating system' python library, `chdir` is shorthand for 'change directory' and 'mkdir' is shorthand for 'make directory\"."
   ]
  },
  {
   "cell_type": "code",
   "execution_count": null,
   "metadata": {},
   "outputs": [],
   "source": [
    "import os\n",
    "!mkdir -p castro_speeches/indices-of-speeches_1959to1970\n",
    "os.chdir('castro_speeches/indices-of-speeches_1959to1970')"
   ]
  },
  {
   "cell_type": "markdown",
   "metadata": {},
   "source": [
    "Open your shared folder on the desktop to take a look and see if the folder was created."
   ]
  },
  {
   "cell_type": "markdown",
   "metadata": {},
   "source": [
    "Now we're going to identify the base URL we'll be scraping from. All the URLs in the Castro database reflect a highly structured, uniform naming system, with each file assigned a unique identifier and nested within a directory structure by year.\n",
    "\n",
    "Using a special function called `wget` (short for 'website get'), we will scrape all of the URLs corresponding to the indices of speeches for each year from 1959-1970.\n",
    "\n",
    "These files will be written into the folder `indices-of-speeches_1959to1970`\n",
    "\n",
    "(Note that in the year range identified, we end at 1971, not 1970. This is because Python counts integers starting at 0 not 1, so ending at 1971 accommodates for this counting system.)\n"
   ]
  },
  {
   "cell_type": "code",
   "execution_count": null,
   "metadata": {},
   "outputs": [],
   "source": [
    "import subprocess\n",
    "\n",
    "for i in range(1959,1971):\n",
    "    base_url = 'http://lanic.utexas.edu/project/castro/'\n",
    "    url = base_url + str(i)\n",
    "    subprocess.call(['wget', url, '--adjust-extension'])"
   ]
  },
  {
   "cell_type": "markdown",
   "metadata": {},
   "source": [
    "Check the folder `indices-of-speeches_1959to1970` you made within the sharedfolder on the desktop. Hopefully you see several html files corresponding to the years 1959-1970! You've successfully scraped HTML files from the web and can use these files to extract the specific text you're interested in!\n"
   ]
  },
  {
   "cell_type": "code",
   "execution_count": null,
   "metadata": {},
   "outputs": [],
   "source": [
    "html_filenames = [item for item in os.listdir('./') if '.html' in item]\n",
    "\n",
    "html_filenames [:10] #this prints out the filenames for the first ten items in our list."
   ]
  },
  {
   "cell_type": "markdown",
   "metadata": {},
   "source": [
    "Now we're going to use Beautiful Soup to extract the URLs corresponding to each speech listed in the yearly indices."
   ]
  },
  {
   "cell_type": "code",
   "execution_count": null,
   "metadata": {},
   "outputs": [],
   "source": [
    "url_list = []\n",
    "\n",
    "for file in html_filenames:\n",
    "    page = open(file).read()\n",
    "    from bs4 import BeautifulSoup\n",
    "    soup = BeautifulSoup(page, 'lxml')\n",
    "    for link in soup.findAll('a'):\n",
    "        try:\n",
    "            url_list.append('http://lanic.utexas.edu' + link['href'])\n",
    "        except Exception as e:\n",
    "            print(e)"
   ]
  },
  {
   "cell_type": "markdown",
   "metadata": {},
   "source": [
    "The output of repeated 'href' represent the empty entries in the 'a href' field throughout all the html files."
   ]
  },
  {
   "cell_type": "code",
   "execution_count": null,
   "metadata": {},
   "outputs": [],
   "source": [
    "url_list # prints out the content of the list"
   ]
  },
  {
   "cell_type": "markdown",
   "metadata": {},
   "source": [
    "How many speech URLs did we scrape? Let's find out!"
   ]
  },
  {
   "cell_type": "code",
   "execution_count": null,
   "metadata": {},
   "outputs": [],
   "source": [
    "len(url_list) # len means length. We're finding the number of URLs in our list."
   ]
  },
  {
   "cell_type": "markdown",
   "metadata": {},
   "source": [
    "Let's create a filtered list of only the urls that correspond to speeches."
   ]
  },
  {
   "cell_type": "code",
   "execution_count": null,
   "metadata": {},
   "outputs": [],
   "source": [
    "urls_filtered = []\n",
    "\n",
    "for item in url_list:\n",
    "    if '/db/' in item:\n",
    "        urls_filtered.append(item)\n",
    "\n",
    "urls_filtered [:50]"
   ]
  },
  {
   "cell_type": "markdown",
   "metadata": {},
   "source": [
    "Great! We have a filtered list of all the URLs we need. Now let's copy this list to a text file!"
   ]
  },
  {
   "cell_type": "code",
   "execution_count": null,
   "metadata": {},
   "outputs": [],
   "source": [
    "os.chdir('..')\n",
    "with open('urls-speeches.txt', 'w') as file_out:\n",
    "    for url in urls_filtered:\n",
    "        file_out.write(url)\n",
    "        file_out.write('\\n')"
   ]
  },
  {
   "cell_type": "markdown",
   "metadata": {},
   "source": [
    "Now we have a text file containing all the URLs we want to scrape content from. Open the Castro's shared folder on the desktop to open the `urls-speeches.txt` file we just made.\n",
    "\n",
    "The next step is to create a new folder called 'speeches' where we'll dump all the text we scrape from the list of URLs we have."
   ]
  },
  {
   "cell_type": "code",
   "execution_count": null,
   "metadata": {},
   "outputs": [],
   "source": [
    "!mkdir speeches"
   ]
  },
  {
   "cell_type": "markdown",
   "metadata": {},
   "source": [
    "Now we're going to bulk scrape the HTML content of each URL that corresponds to a speech. Note that when we run the cell below, it'll take approximately 56 seconds. When that time has lapsed, we should have successfully downloaded 443 HTML files."
   ]
  },
  {
   "cell_type": "code",
   "execution_count": null,
   "metadata": {},
   "outputs": [],
   "source": [
    "import subprocess\n",
    "\n",
    "!wget -i urls-speeches.txt --wait=0.1 -P ./speeches/"
   ]
  },
  {
   "cell_type": "markdown",
   "metadata": {},
   "source": [
    "Hooray! We now have an HTML file for each speech in the Castro Speech Database from 1959 to 1970!\n",
    "\n",
    "Open one of the HTML files by control clicking and selecting \"TextWrangler\" from the \"Open With\" dropdown menu.\n",
    "\n",
    "You'll see that the speech text we want is still embedded in HTML. Let's run Beautiful Soup to extract the speech texts from all 443 HTML files. Then, we'll create plain text files for each speech!"
   ]
  },
  {
   "cell_type": "code",
   "execution_count": null,
   "metadata": {},
   "outputs": [],
   "source": [
    "os.chdir('speeches')\n",
    "         \n",
    "html_filenames = [item for item in os.listdir('./') if '.html' in item]\n",
    "\n",
    "for file in html_filenames:\n",
    "    try:\n",
    "        page = open(file, 'rb').read().decode('latin1') #read as byte stream\n",
    "        soup = BeautifulSoup(page, 'lxml')\n",
    "        body_text = soup.body\n",
    "        raw_text = soup.select('pre')\n",
    "        clean_text = raw_text[0].text\n",
    "        with open(file.replace('.html', '.txt'), 'w') as file_out:\n",
    "            file_out.write(clean_text)\n",
    "    except Exception as e:\n",
    "        print(file)"
   ]
  },
  {
   "cell_type": "markdown",
   "metadata": {},
   "source": [
    "You should now have clean, plain text files of all the 1959 to 1970 speeches. With a few modifications to the code above, you can easily extend this web scraping to the entire database for speeches from 1959 to 1996!"
   ]
  }
 ],
 "metadata": {
  "kernelspec": {
   "display_name": "Python 3",
   "language": "python",
   "name": "python3"
  },
  "language_info": {
   "codemirror_mode": {
    "name": "ipython",
    "version": 3
   },
   "file_extension": ".py",
   "mimetype": "text/x-python",
   "name": "python",
   "nbconvert_exporter": "python",
   "pygments_lexer": "ipython3",
   "version": "3.5.2"
  }
 },
 "nbformat": 4,
 "nbformat_minor": 2
}
